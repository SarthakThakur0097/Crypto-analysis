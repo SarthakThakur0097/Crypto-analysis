{
 "cells": [
  {
   "cell_type": "code",
   "execution_count": 3,
   "id": "63e7290f-54e0-4056-96d0-4073e47366ed",
   "metadata": {},
   "outputs": [],
   "source": [
    "import pandas as pd\n",
    "import os\n",
    "\n",
    "def resample_timeframes(input_csv_path, output_folder):\n",
    "    \"\"\"\n",
    "    Resample raw OHLCV CSV data into 30-minute, 1-hour, and 1-day datasets.\n",
    "    \n",
    "    Args:\n",
    "        input_csv_path (str): Path to input CSV file.\n",
    "        output_folder (str): Path to folder where outputs will be saved.\n",
    "    \"\"\"\n",
    "\n",
    "    # Load input CSV\n",
    "    df = pd.read_csv(input_csv_path)\n",
    "\n",
    "    # Detect time column\n",
    "    if 'timestamp' in df.columns:\n",
    "        df['timestamp'] = pd.to_datetime(df['timestamp'])\n",
    "        df.set_index('timestamp', inplace=True)\n",
    "    elif 'time' in df.columns:\n",
    "        df['time'] = pd.to_datetime(df['time'])\n",
    "        df.set_index('time', inplace=True)\n",
    "    else:\n",
    "        raise ValueError(\"No recognizable time column found (expected 'timestamp' or 'time').\")\n",
    "\n",
    "    # Sort just in case\n",
    "    df = df.sort_index()\n",
    "\n",
    "    # Make sure output folder exists\n",
    "    os.makedirs(output_folder, exist_ok=True)\n",
    "\n",
    "    # === 30-Minute Resample ===\n",
    "    df_30m = pd.DataFrame()\n",
    "    df_30m['open'] = df['open'].resample('30T').first()\n",
    "    df_30m['high'] = df['high'].resample('30T').max()\n",
    "    df_30m['low'] = df['low'].resample('30T').min()\n",
    "    df_30m['close'] = df['close'].resample('30T').last()\n",
    "    df_30m['volume'] = df['volume'].resample('30T').sum()\n",
    "    df_30m.dropna(inplace=True)\n",
    "    df_30m.to_csv(os.path.join(output_folder, 'BTCUSD_30m.csv'))\n",
    "\n",
    "    print(\"✅ 30m dataset created and saved.\")\n",
    "\n",
    "    # === 1-Hour Resample ===\n",
    "    df_1h = pd.DataFrame()\n",
    "    df_1h['open'] = df_30m['open'].resample('1H').first()\n",
    "    df_1h['high'] = df_30m['high'].resample('1H').max()\n",
    "    df_1h['low'] = df_30m['low'].resample('1H').min()\n",
    "    df_1h['close'] = df_30m['close'].resample('1H').last()\n",
    "    df_1h['volume'] = df_30m['volume'].resample('1H').sum()\n",
    "    df_1h.dropna(inplace=True)\n",
    "    df_1h.to_csv(os.path.join(output_folder, 'BTCUSD_1h.csv'))\n",
    "\n",
    "    print(\"✅ 1H dataset created and saved.\")\n",
    "\n",
    "    # === 1-Day Resample ===\n",
    "    df_1d = pd.DataFrame()\n",
    "    df_1d['open'] = df_30m['open'].resample('1D').first()\n",
    "    df_1d['high'] = df_30m['high'].resample('1D').max()\n",
    "    df_1d['low'] = df_30m['low'].resample('1D').min()\n",
    "    df_1d['close'] = df_30m['close'].resample('1D').last()\n",
    "    df_1d['volume'] = df_30m['volume'].resample('1D').sum()\n",
    "    df_1d.dropna(inplace=True)\n",
    "    df_1d.to_csv(os.path.join(output_folder, 'BTCUSD_1d.csv'))\n",
    "\n",
    "    print(\"✅ 1D dataset created and saved.\")\n",
    "\n",
    "    print(\"\\n🎯 All resampled datasets saved to:\", output_folder)\n"
   ]
  },
  {
   "cell_type": "code",
   "execution_count": 12,
   "id": "cbf28f5b-9741-4a3c-9e6a-a98f68ab1108",
   "metadata": {},
   "outputs": [],
   "source": [
    "input_csv_path = 'Coinbase_BTCUSD_30m_4years.csv'\n",
    "output_folder = 'Resampled'"
   ]
  },
  {
   "cell_type": "code",
   "execution_count": 13,
   "id": "75a2d2af-ca21-483e-894b-3a48617c2ae2",
   "metadata": {},
   "outputs": [
    {
     "name": "stdout",
     "output_type": "stream",
     "text": [
      "✅ 30m dataset created and saved.\n",
      "✅ 1H dataset created and saved.\n",
      "✅ 1D dataset created and saved.\n",
      "\n",
      "🎯 All resampled datasets saved to: Resampled\n"
     ]
    }
   ],
   "source": [
    "resample_timeframes(input_csv_path, output_folder)"
   ]
  },
  {
   "cell_type": "code",
   "execution_count": null,
   "id": "ea9645c1-4395-4203-869b-d529bb8d64f7",
   "metadata": {},
   "outputs": [],
   "source": []
  }
 ],
 "metadata": {
  "kernelspec": {
   "display_name": "Python 3 (ipykernel)",
   "language": "python",
   "name": "python3"
  },
  "language_info": {
   "codemirror_mode": {
    "name": "ipython",
    "version": 3
   },
   "file_extension": ".py",
   "mimetype": "text/x-python",
   "name": "python",
   "nbconvert_exporter": "python",
   "pygments_lexer": "ipython3",
   "version": "3.11.5"
  }
 },
 "nbformat": 4,
 "nbformat_minor": 5
}
